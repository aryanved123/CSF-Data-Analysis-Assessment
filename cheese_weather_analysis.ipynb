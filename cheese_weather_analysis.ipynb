{
 "cells": [
  {
   "cell_type": "markdown",
   "metadata": {},
   "source": [
    "# 🧀 Canadian Cheese & Weather Analysis\n",
    "\n",
    "## 📌 Introduction\n",
    "This project explores the relationship between provincial temperatures and cheese production across Canada.\n",
    "\n",
    "## 📂 Data Sources\n",
    "- Canadian Cheese Directory\n",
    "- Provincial Average Temperature Data\n"
   ]
  },
  {
   "cell_type": "code",
   "execution_count": null,
   "metadata": {},
   "outputs": [],
   "source": [
    "import pandas as pd\n",
    "import matplotlib.pyplot as plt\n",
    "import seaborn as sns\n",
    "\n",
    "sns.set(style=\"whitegrid\")\n",
    "\n",
    "cheese_df = pd.read_csv(\"data/cheese_data.csv\")\n",
    "weather_df = pd.read_csv(\"data/Canada_Temperature_Data.csv\")\n",
    "\n",
    "print(\"Cheese Dataset Loaded:\", cheese_df.shape)\n",
    "print(\"Weather Dataset Loaded:\", weather_df.shape)\n",
    "\n",
    "cheese_df.head()"
   ]
  },
  {
   "cell_type": "markdown",
   "metadata": {},
   "source": [
    "## 🧹 Data Cleaning\n",
    "We standardize province names..."
   ]
  },
  {
   "cell_type": "code",
   "execution_count": null,
   "metadata": {},
   "outputs": [],
   "source": [
    "cheese_df['Province'] = cheese_df['Province'].str.strip().str.title()\n",
    "weather_df['Province'] = weather_df['Province'].str.strip().str.title()"
   ]
  },
  {
   "cell_type": "markdown",
   "metadata": {},
   "source": [
    "## 🔗 Merging Datasets\n",
    "We merge the cheese count..."
   ]
  },
  {
   "cell_type": "code",
   "execution_count": null,
   "metadata": {},
   "outputs": [],
   "source": [
    "cheese_counts = cheese_df.groupby('Province').size().reset_index(name='Cheese_Count')\n",
    "merged_df = pd.merge(cheese_counts, weather_df, on='Province', how='inner')\n",
    "\n",
    "# Rename if needed\n",
    "if 'AverageTemperature (°C)' in merged_df.columns:\n",
    "    merged_df = merged_df.rename(columns={'AverageTemperature (°C)': 'Avg_Temp_C'})\n",
    "\n",
    "merged_df.sort_values(by='Avg_Temp_C', inplace=True)\n",
    "merged_df.head()"
   ]
  },
  {
   "cell_type": "markdown",
   "metadata": {},
   "source": [
    "## 📊 Visualizations\n",
    "Below are two visualizations..."
   ]
  },
  {
   "cell_type": "code",
   "execution_count": null,
   "metadata": {},
   "outputs": [],
   "source": [
    "plt.figure(figsize=(10, 6))\n",
    "sns.barplot(data=merged_df.sort_values('Cheese_Count', ascending=False),\n",
    "            x='Cheese_Count', y='Province', palette='coolwarm')\n",
    "plt.title('Number of Cheese Types by Province')\n",
    "plt.xlabel('Cheese Count')\n",
    "plt.ylabel('Province')\n",
    "plt.tight_layout()\n",
    "plt.show()"
   ]
  },
  {
   "cell_type": "code",
   "execution_count": null,
   "metadata": {},
   "outputs": [],
   "source": [
    "plt.figure(figsize=(8, 6))\n",
    "sns.regplot(data=merged_df, x='Avg_Temp_C', y='Cheese_Count', marker='o')\n",
    "plt.title('Cheese Variety vs Average Temperature by Province')\n",
    "plt.xlabel('Average Temperature (°C)')\n",
    "plt.ylabel('Cheese Count')\n",
    "plt.tight_layout()\n",
    "plt.show()"
   ]
  },
  {
   "cell_type": "markdown",
   "metadata": {},
   "source": [
    "### 🔍 Inference\n",
    "From the bar chart..."
   ]
  },
  {
   "cell_type": "markdown",
   "metadata": {},
   "source": [
    "## ✅ Conclusion\n",
    "- Cooler provinces produce..."
   ]
  },
  {
   "cell_type": "markdown",
   "metadata": {},
   "source": [
    "## 📎 References\n",
    "- [Canadian Cheese Directory](...)\n",
    "- [Canada Weather Data](...)\n"
   ]
  }
 ],
 "metadata": {
  "language_info": {
   "name": "python"
  }
 },
 "nbformat": 4,
 "nbformat_minor": 2
}
